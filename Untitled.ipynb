{
 "cells": [
  {
   "cell_type": "code",
   "execution_count": 2,
   "id": "633682ce",
   "metadata": {},
   "outputs": [
    {
     "name": "stdout",
     "output_type": "stream",
     "text": [
      "Requirement already satisfied: tensorflow in c:\\users\\abhiraj\\desktop\\generative adversarial neural network\\fashgan\\lib\\site-packages (2.12.0)\n",
      "Requirement already satisfied: matplotlib in c:\\users\\abhiraj\\desktop\\generative adversarial neural network\\fashgan\\lib\\site-packages (3.7.1)\n",
      "Requirement already satisfied: tensorflow-datasets in c:\\users\\abhiraj\\desktop\\generative adversarial neural network\\fashgan\\lib\\site-packages (4.9.2)\n",
      "Requirement already satisfied: ipywidgets in c:\\users\\abhiraj\\desktop\\generative adversarial neural network\\fashgan\\lib\\site-packages (8.0.6)\n",
      "Requirement already satisfied: tensorflow-intel==2.12.0 in c:\\users\\abhiraj\\desktop\\generative adversarial neural network\\fashgan\\lib\\site-packages (from tensorflow) (2.12.0)\n",
      "Requirement already satisfied: absl-py>=1.0.0 in c:\\users\\abhiraj\\desktop\\generative adversarial neural network\\fashgan\\lib\\site-packages (from tensorflow-intel==2.12.0->tensorflow) (1.4.0)\n",
      "Requirement already satisfied: astunparse>=1.6.0 in c:\\users\\abhiraj\\desktop\\generative adversarial neural network\\fashgan\\lib\\site-packages (from tensorflow-intel==2.12.0->tensorflow) (1.6.3)\n",
      "Requirement already satisfied: flatbuffers>=2.0 in c:\\users\\abhiraj\\desktop\\generative adversarial neural network\\fashgan\\lib\\site-packages (from tensorflow-intel==2.12.0->tensorflow) (23.3.3)\n",
      "Requirement already satisfied: gast<=0.4.0,>=0.2.1 in c:\\users\\abhiraj\\desktop\\generative adversarial neural network\\fashgan\\lib\\site-packages (from tensorflow-intel==2.12.0->tensorflow) (0.4.0)\n",
      "Requirement already satisfied: google-pasta>=0.1.1 in c:\\users\\abhiraj\\desktop\\generative adversarial neural network\\fashgan\\lib\\site-packages (from tensorflow-intel==2.12.0->tensorflow) (0.2.0)\n",
      "Requirement already satisfied: h5py>=2.9.0 in c:\\users\\abhiraj\\desktop\\generative adversarial neural network\\fashgan\\lib\\site-packages (from tensorflow-intel==2.12.0->tensorflow) (3.8.0)\n",
      "Requirement already satisfied: jax>=0.3.15 in c:\\users\\abhiraj\\desktop\\generative adversarial neural network\\fashgan\\lib\\site-packages (from tensorflow-intel==2.12.0->tensorflow) (0.4.8)\n",
      "Requirement already satisfied: libclang>=13.0.0 in c:\\users\\abhiraj\\desktop\\generative adversarial neural network\\fashgan\\lib\\site-packages (from tensorflow-intel==2.12.0->tensorflow) (16.0.0)\n",
      "Requirement already satisfied: numpy<1.24,>=1.22 in c:\\users\\abhiraj\\desktop\\generative adversarial neural network\\fashgan\\lib\\site-packages (from tensorflow-intel==2.12.0->tensorflow) (1.23.5)\n",
      "Requirement already satisfied: opt-einsum>=2.3.2 in c:\\users\\abhiraj\\desktop\\generative adversarial neural network\\fashgan\\lib\\site-packages (from tensorflow-intel==2.12.0->tensorflow) (3.3.0)\n",
      "Requirement already satisfied: packaging in c:\\users\\abhiraj\\desktop\\generative adversarial neural network\\fashgan\\lib\\site-packages (from tensorflow-intel==2.12.0->tensorflow) (23.1)\n",
      "Requirement already satisfied: protobuf!=4.21.0,!=4.21.1,!=4.21.2,!=4.21.3,!=4.21.4,!=4.21.5,<5.0.0dev,>=3.20.3 in c:\\users\\abhiraj\\desktop\\generative adversarial neural network\\fashgan\\lib\\site-packages (from tensorflow-intel==2.12.0->tensorflow) (4.22.3)\n",
      "Requirement already satisfied: setuptools in c:\\users\\abhiraj\\desktop\\generative adversarial neural network\\fashgan\\lib\\site-packages (from tensorflow-intel==2.12.0->tensorflow) (65.5.0)\n",
      "Requirement already satisfied: six>=1.12.0 in c:\\users\\abhiraj\\desktop\\generative adversarial neural network\\fashgan\\lib\\site-packages (from tensorflow-intel==2.12.0->tensorflow) (1.16.0)\n",
      "Requirement already satisfied: termcolor>=1.1.0 in c:\\users\\abhiraj\\desktop\\generative adversarial neural network\\fashgan\\lib\\site-packages (from tensorflow-intel==2.12.0->tensorflow) (2.3.0)\n",
      "Requirement already satisfied: typing-extensions>=3.6.6 in c:\\users\\abhiraj\\desktop\\generative adversarial neural network\\fashgan\\lib\\site-packages (from tensorflow-intel==2.12.0->tensorflow) (4.5.0)\n",
      "Requirement already satisfied: wrapt<1.15,>=1.11.0 in c:\\users\\abhiraj\\desktop\\generative adversarial neural network\\fashgan\\lib\\site-packages (from tensorflow-intel==2.12.0->tensorflow) (1.14.1)\n",
      "Requirement already satisfied: grpcio<2.0,>=1.24.3 in c:\\users\\abhiraj\\desktop\\generative adversarial neural network\\fashgan\\lib\\site-packages (from tensorflow-intel==2.12.0->tensorflow) (1.54.0)\n",
      "Requirement already satisfied: tensorboard<2.13,>=2.12 in c:\\users\\abhiraj\\desktop\\generative adversarial neural network\\fashgan\\lib\\site-packages (from tensorflow-intel==2.12.0->tensorflow) (2.12.2)\n",
      "Requirement already satisfied: tensorflow-estimator<2.13,>=2.12.0 in c:\\users\\abhiraj\\desktop\\generative adversarial neural network\\fashgan\\lib\\site-packages (from tensorflow-intel==2.12.0->tensorflow) (2.12.0)\n",
      "Requirement already satisfied: keras<2.13,>=2.12.0 in c:\\users\\abhiraj\\desktop\\generative adversarial neural network\\fashgan\\lib\\site-packages (from tensorflow-intel==2.12.0->tensorflow) (2.12.0)\n",
      "Requirement already satisfied: tensorflow-io-gcs-filesystem>=0.23.1 in c:\\users\\abhiraj\\desktop\\generative adversarial neural network\\fashgan\\lib\\site-packages (from tensorflow-intel==2.12.0->tensorflow) (0.31.0)\n",
      "Requirement already satisfied: contourpy>=1.0.1 in c:\\users\\abhiraj\\desktop\\generative adversarial neural network\\fashgan\\lib\\site-packages (from matplotlib) (1.0.7)\n",
      "Requirement already satisfied: cycler>=0.10 in c:\\users\\abhiraj\\desktop\\generative adversarial neural network\\fashgan\\lib\\site-packages (from matplotlib) (0.11.0)\n",
      "Requirement already satisfied: fonttools>=4.22.0 in c:\\users\\abhiraj\\desktop\\generative adversarial neural network\\fashgan\\lib\\site-packages (from matplotlib) (4.39.3)\n",
      "Requirement already satisfied: kiwisolver>=1.0.1 in c:\\users\\abhiraj\\desktop\\generative adversarial neural network\\fashgan\\lib\\site-packages (from matplotlib) (1.4.4)\n",
      "Requirement already satisfied: pillow>=6.2.0 in c:\\users\\abhiraj\\desktop\\generative adversarial neural network\\fashgan\\lib\\site-packages (from matplotlib) (9.5.0)\n",
      "Requirement already satisfied: pyparsing>=2.3.1 in c:\\users\\abhiraj\\desktop\\generative adversarial neural network\\fashgan\\lib\\site-packages (from matplotlib) (3.0.9)\n",
      "Requirement already satisfied: python-dateutil>=2.7 in c:\\users\\abhiraj\\desktop\\generative adversarial neural network\\fashgan\\lib\\site-packages (from matplotlib) (2.8.2)\n",
      "Requirement already satisfied: array-record in c:\\users\\abhiraj\\desktop\\generative adversarial neural network\\fashgan\\lib\\site-packages (from tensorflow-datasets) (0.2.0)\n",
      "Requirement already satisfied: click in c:\\users\\abhiraj\\desktop\\generative adversarial neural network\\fashgan\\lib\\site-packages (from tensorflow-datasets) (8.1.3)\n",
      "Requirement already satisfied: dm-tree in c:\\users\\abhiraj\\desktop\\generative adversarial neural network\\fashgan\\lib\\site-packages (from tensorflow-datasets) (0.1.8)\n",
      "Requirement already satisfied: etils[enp,epath]>=0.9.0 in c:\\users\\abhiraj\\desktop\\generative adversarial neural network\\fashgan\\lib\\site-packages (from tensorflow-datasets) (1.2.0)\n",
      "Requirement already satisfied: promise in c:\\users\\abhiraj\\desktop\\generative adversarial neural network\\fashgan\\lib\\site-packages (from tensorflow-datasets) (2.3)\n",
      "Requirement already satisfied: psutil in c:\\users\\abhiraj\\desktop\\generative adversarial neural network\\fashgan\\lib\\site-packages (from tensorflow-datasets) (5.9.5)\n",
      "Requirement already satisfied: requests>=2.19.0 in c:\\users\\abhiraj\\desktop\\generative adversarial neural network\\fashgan\\lib\\site-packages (from tensorflow-datasets) (2.29.0)\n",
      "Requirement already satisfied: tensorflow-metadata in c:\\users\\abhiraj\\desktop\\generative adversarial neural network\\fashgan\\lib\\site-packages (from tensorflow-datasets) (1.13.1)\n",
      "Requirement already satisfied: toml in c:\\users\\abhiraj\\desktop\\generative adversarial neural network\\fashgan\\lib\\site-packages (from tensorflow-datasets) (0.10.2)\n",
      "Requirement already satisfied: tqdm in c:\\users\\abhiraj\\desktop\\generative adversarial neural network\\fashgan\\lib\\site-packages (from tensorflow-datasets) (4.65.0)\n",
      "Requirement already satisfied: ipykernel>=4.5.1 in c:\\users\\abhiraj\\desktop\\generative adversarial neural network\\fashgan\\lib\\site-packages (from ipywidgets) (6.22.0)\n",
      "Requirement already satisfied: ipython>=6.1.0 in c:\\users\\abhiraj\\desktop\\generative adversarial neural network\\fashgan\\lib\\site-packages (from ipywidgets) (8.13.1)\n",
      "Requirement already satisfied: traitlets>=4.3.1 in c:\\users\\abhiraj\\desktop\\generative adversarial neural network\\fashgan\\lib\\site-packages (from ipywidgets) (5.9.0)\n",
      "Requirement already satisfied: widgetsnbextension~=4.0.7 in c:\\users\\abhiraj\\desktop\\generative adversarial neural network\\fashgan\\lib\\site-packages (from ipywidgets) (4.0.7)\n",
      "Requirement already satisfied: jupyterlab-widgets~=3.0.7 in c:\\users\\abhiraj\\desktop\\generative adversarial neural network\\fashgan\\lib\\site-packages (from ipywidgets) (3.0.7)\n",
      "Requirement already satisfied: importlib_resources in c:\\users\\abhiraj\\desktop\\generative adversarial neural network\\fashgan\\lib\\site-packages (from etils[enp,epath]>=0.9.0->tensorflow-datasets) (5.12.0)\n",
      "Requirement already satisfied: zipp in c:\\users\\abhiraj\\desktop\\generative adversarial neural network\\fashgan\\lib\\site-packages (from etils[enp,epath]>=0.9.0->tensorflow-datasets) (3.15.0)\n",
      "Requirement already satisfied: comm>=0.1.1 in c:\\users\\abhiraj\\desktop\\generative adversarial neural network\\fashgan\\lib\\site-packages (from ipykernel>=4.5.1->ipywidgets) (0.1.3)\n",
      "Requirement already satisfied: debugpy>=1.6.5 in c:\\users\\abhiraj\\desktop\\generative adversarial neural network\\fashgan\\lib\\site-packages (from ipykernel>=4.5.1->ipywidgets) (1.6.7)\n",
      "Requirement already satisfied: jupyter-client>=6.1.12 in c:\\users\\abhiraj\\desktop\\generative adversarial neural network\\fashgan\\lib\\site-packages (from ipykernel>=4.5.1->ipywidgets) (8.2.0)\n",
      "Requirement already satisfied: jupyter-core!=5.0.*,>=4.12 in c:\\users\\abhiraj\\desktop\\generative adversarial neural network\\fashgan\\lib\\site-packages (from ipykernel>=4.5.1->ipywidgets) (5.3.0)\n",
      "Requirement already satisfied: matplotlib-inline>=0.1 in c:\\users\\abhiraj\\desktop\\generative adversarial neural network\\fashgan\\lib\\site-packages (from ipykernel>=4.5.1->ipywidgets) (0.1.6)\n",
      "Requirement already satisfied: nest-asyncio in c:\\users\\abhiraj\\desktop\\generative adversarial neural network\\fashgan\\lib\\site-packages (from ipykernel>=4.5.1->ipywidgets) (1.5.6)\n",
      "Requirement already satisfied: pyzmq>=20 in c:\\users\\abhiraj\\desktop\\generative adversarial neural network\\fashgan\\lib\\site-packages (from ipykernel>=4.5.1->ipywidgets) (25.0.2)\n",
      "Requirement already satisfied: tornado>=6.1 in c:\\users\\abhiraj\\desktop\\generative adversarial neural network\\fashgan\\lib\\site-packages (from ipykernel>=4.5.1->ipywidgets) (6.3.1)\n",
      "Requirement already satisfied: backcall in c:\\users\\abhiraj\\desktop\\generative adversarial neural network\\fashgan\\lib\\site-packages (from ipython>=6.1.0->ipywidgets) (0.2.0)\n",
      "Requirement already satisfied: decorator in c:\\users\\abhiraj\\desktop\\generative adversarial neural network\\fashgan\\lib\\site-packages (from ipython>=6.1.0->ipywidgets) (5.1.1)\n",
      "Requirement already satisfied: jedi>=0.16 in c:\\users\\abhiraj\\desktop\\generative adversarial neural network\\fashgan\\lib\\site-packages (from ipython>=6.1.0->ipywidgets) (0.18.2)\n",
      "Requirement already satisfied: pickleshare in c:\\users\\abhiraj\\desktop\\generative adversarial neural network\\fashgan\\lib\\site-packages (from ipython>=6.1.0->ipywidgets) (0.7.5)\n",
      "Requirement already satisfied: prompt-toolkit!=3.0.37,<3.1.0,>=3.0.30 in c:\\users\\abhiraj\\desktop\\generative adversarial neural network\\fashgan\\lib\\site-packages (from ipython>=6.1.0->ipywidgets) (3.0.38)\n",
      "Requirement already satisfied: pygments>=2.4.0 in c:\\users\\abhiraj\\desktop\\generative adversarial neural network\\fashgan\\lib\\site-packages (from ipython>=6.1.0->ipywidgets) (2.15.1)\n",
      "Requirement already satisfied: stack-data in c:\\users\\abhiraj\\desktop\\generative adversarial neural network\\fashgan\\lib\\site-packages (from ipython>=6.1.0->ipywidgets) (0.6.2)\n",
      "Requirement already satisfied: colorama in c:\\users\\abhiraj\\desktop\\generative adversarial neural network\\fashgan\\lib\\site-packages (from ipython>=6.1.0->ipywidgets) (0.4.6)\n",
      "Requirement already satisfied: charset-normalizer<4,>=2 in c:\\users\\abhiraj\\desktop\\generative adversarial neural network\\fashgan\\lib\\site-packages (from requests>=2.19.0->tensorflow-datasets) (3.1.0)\n",
      "Requirement already satisfied: idna<4,>=2.5 in c:\\users\\abhiraj\\desktop\\generative adversarial neural network\\fashgan\\lib\\site-packages (from requests>=2.19.0->tensorflow-datasets) (3.4)\n",
      "Requirement already satisfied: urllib3<1.27,>=1.21.1 in c:\\users\\abhiraj\\desktop\\generative adversarial neural network\\fashgan\\lib\\site-packages (from requests>=2.19.0->tensorflow-datasets) (1.26.15)\n",
      "Requirement already satisfied: certifi>=2017.4.17 in c:\\users\\abhiraj\\desktop\\generative adversarial neural network\\fashgan\\lib\\site-packages (from requests>=2.19.0->tensorflow-datasets) (2022.12.7)\n",
      "Requirement already satisfied: googleapis-common-protos<2,>=1.52.0 in c:\\users\\abhiraj\\desktop\\generative adversarial neural network\\fashgan\\lib\\site-packages (from tensorflow-metadata->tensorflow-datasets) (1.59.0)\n",
      "Requirement already satisfied: wheel<1.0,>=0.23.0 in c:\\users\\abhiraj\\desktop\\generative adversarial neural network\\fashgan\\lib\\site-packages (from astunparse>=1.6.0->tensorflow-intel==2.12.0->tensorflow) (0.40.0)\n",
      "Requirement already satisfied: ml-dtypes>=0.0.3 in c:\\users\\abhiraj\\desktop\\generative adversarial neural network\\fashgan\\lib\\site-packages (from jax>=0.3.15->tensorflow-intel==2.12.0->tensorflow) (0.1.0)\n",
      "Requirement already satisfied: scipy>=1.7 in c:\\users\\abhiraj\\desktop\\generative adversarial neural network\\fashgan\\lib\\site-packages (from jax>=0.3.15->tensorflow-intel==2.12.0->tensorflow) (1.10.1)\n",
      "Requirement already satisfied: parso<0.9.0,>=0.8.0 in c:\\users\\abhiraj\\desktop\\generative adversarial neural network\\fashgan\\lib\\site-packages (from jedi>=0.16->ipython>=6.1.0->ipywidgets) (0.8.3)\n",
      "Requirement already satisfied: platformdirs>=2.5 in c:\\users\\abhiraj\\desktop\\generative adversarial neural network\\fashgan\\lib\\site-packages (from jupyter-core!=5.0.*,>=4.12->ipykernel>=4.5.1->ipywidgets) (3.5.0)\n",
      "Requirement already satisfied: pywin32>=300 in c:\\users\\abhiraj\\desktop\\generative adversarial neural network\\fashgan\\lib\\site-packages (from jupyter-core!=5.0.*,>=4.12->ipykernel>=4.5.1->ipywidgets) (306)\n",
      "Requirement already satisfied: wcwidth in c:\\users\\abhiraj\\desktop\\generative adversarial neural network\\fashgan\\lib\\site-packages (from prompt-toolkit!=3.0.37,<3.1.0,>=3.0.30->ipython>=6.1.0->ipywidgets) (0.2.6)\n",
      "Requirement already satisfied: google-auth<3,>=1.6.3 in c:\\users\\abhiraj\\desktop\\generative adversarial neural network\\fashgan\\lib\\site-packages (from tensorboard<2.13,>=2.12->tensorflow-intel==2.12.0->tensorflow) (2.17.3)\n",
      "Requirement already satisfied: google-auth-oauthlib<1.1,>=0.5 in c:\\users\\abhiraj\\desktop\\generative adversarial neural network\\fashgan\\lib\\site-packages (from tensorboard<2.13,>=2.12->tensorflow-intel==2.12.0->tensorflow) (1.0.0)\n",
      "Requirement already satisfied: markdown>=2.6.8 in c:\\users\\abhiraj\\desktop\\generative adversarial neural network\\fashgan\\lib\\site-packages (from tensorboard<2.13,>=2.12->tensorflow-intel==2.12.0->tensorflow) (3.4.3)\n",
      "Requirement already satisfied: tensorboard-data-server<0.8.0,>=0.7.0 in c:\\users\\abhiraj\\desktop\\generative adversarial neural network\\fashgan\\lib\\site-packages (from tensorboard<2.13,>=2.12->tensorflow-intel==2.12.0->tensorflow) (0.7.0)\n",
      "Requirement already satisfied: tensorboard-plugin-wit>=1.6.0 in c:\\users\\abhiraj\\desktop\\generative adversarial neural network\\fashgan\\lib\\site-packages (from tensorboard<2.13,>=2.12->tensorflow-intel==2.12.0->tensorflow) (1.8.1)\n",
      "Requirement already satisfied: werkzeug>=1.0.1 in c:\\users\\abhiraj\\desktop\\generative adversarial neural network\\fashgan\\lib\\site-packages (from tensorboard<2.13,>=2.12->tensorflow-intel==2.12.0->tensorflow) (2.3.2)\n",
      "Requirement already satisfied: executing>=1.2.0 in c:\\users\\abhiraj\\desktop\\generative adversarial neural network\\fashgan\\lib\\site-packages (from stack-data->ipython>=6.1.0->ipywidgets) (1.2.0)\n",
      "Requirement already satisfied: asttokens>=2.1.0 in c:\\users\\abhiraj\\desktop\\generative adversarial neural network\\fashgan\\lib\\site-packages (from stack-data->ipython>=6.1.0->ipywidgets) (2.2.1)\n",
      "Requirement already satisfied: pure-eval in c:\\users\\abhiraj\\desktop\\generative adversarial neural network\\fashgan\\lib\\site-packages (from stack-data->ipython>=6.1.0->ipywidgets) (0.2.2)\n",
      "Requirement already satisfied: cachetools<6.0,>=2.0.0 in c:\\users\\abhiraj\\desktop\\generative adversarial neural network\\fashgan\\lib\\site-packages (from google-auth<3,>=1.6.3->tensorboard<2.13,>=2.12->tensorflow-intel==2.12.0->tensorflow) (5.3.0)\n",
      "Requirement already satisfied: pyasn1-modules>=0.2.1 in c:\\users\\abhiraj\\desktop\\generative adversarial neural network\\fashgan\\lib\\site-packages (from google-auth<3,>=1.6.3->tensorboard<2.13,>=2.12->tensorflow-intel==2.12.0->tensorflow) (0.3.0)\n",
      "Requirement already satisfied: rsa<5,>=3.1.4 in c:\\users\\abhiraj\\desktop\\generative adversarial neural network\\fashgan\\lib\\site-packages (from google-auth<3,>=1.6.3->tensorboard<2.13,>=2.12->tensorflow-intel==2.12.0->tensorflow) (4.9)\n",
      "Requirement already satisfied: requests-oauthlib>=0.7.0 in c:\\users\\abhiraj\\desktop\\generative adversarial neural network\\fashgan\\lib\\site-packages (from google-auth-oauthlib<1.1,>=0.5->tensorboard<2.13,>=2.12->tensorflow-intel==2.12.0->tensorflow) (1.3.1)\n",
      "Requirement already satisfied: MarkupSafe>=2.1.1 in c:\\users\\abhiraj\\desktop\\generative adversarial neural network\\fashgan\\lib\\site-packages (from werkzeug>=1.0.1->tensorboard<2.13,>=2.12->tensorflow-intel==2.12.0->tensorflow) (2.1.2)\n",
      "Requirement already satisfied: pyasn1<0.6.0,>=0.4.6 in c:\\users\\abhiraj\\desktop\\generative adversarial neural network\\fashgan\\lib\\site-packages (from pyasn1-modules>=0.2.1->google-auth<3,>=1.6.3->tensorboard<2.13,>=2.12->tensorflow-intel==2.12.0->tensorflow) (0.5.0)\n",
      "Requirement already satisfied: oauthlib>=3.0.0 in c:\\users\\abhiraj\\desktop\\generative adversarial neural network\\fashgan\\lib\\site-packages (from requests-oauthlib>=0.7.0->google-auth-oauthlib<1.1,>=0.5->tensorboard<2.13,>=2.12->tensorflow-intel==2.12.0->tensorflow) (3.2.2)\n"
     ]
    }
   ],
   "source": [
    "!pip install tensorflow matplotlib tensorflow-datasets ipywidgets"
   ]
  },
  {
   "cell_type": "code",
   "execution_count": 3,
   "id": "2b19cbeb",
   "metadata": {},
   "outputs": [
    {
     "name": "stdout",
     "output_type": "stream",
     "text": [
      "Package                      Version\n",
      "---------------------------- ---------\n",
      "absl-py                      1.4.0\n",
      "anyio                        3.6.2\n",
      "argon2-cffi                  21.3.0\n",
      "argon2-cffi-bindings         21.2.0\n",
      "array-record                 0.2.0\n",
      "arrow                        1.2.3\n",
      "asttokens                    2.2.1\n",
      "astunparse                   1.6.3\n",
      "attrs                        23.1.0\n",
      "backcall                     0.2.0\n",
      "beautifulsoup4               4.12.2\n",
      "bleach                       6.0.0\n",
      "cachetools                   5.3.0\n",
      "certifi                      2022.12.7\n",
      "cffi                         1.15.1\n",
      "charset-normalizer           3.1.0\n",
      "click                        8.1.3\n",
      "colorama                     0.4.6\n",
      "comm                         0.1.3\n",
      "contourpy                    1.0.7\n",
      "cycler                       0.11.0\n",
      "debugpy                      1.6.7\n",
      "decorator                    5.1.1\n",
      "defusedxml                   0.7.1\n",
      "dm-tree                      0.1.8\n",
      "etils                        1.2.0\n",
      "executing                    1.2.0\n",
      "fastjsonschema               2.16.3\n",
      "flatbuffers                  23.3.3\n",
      "fonttools                    4.39.3\n",
      "fqdn                         1.5.1\n",
      "gast                         0.4.0\n",
      "google-auth                  2.17.3\n",
      "google-auth-oauthlib         1.0.0\n",
      "google-pasta                 0.2.0\n",
      "googleapis-common-protos     1.59.0\n",
      "grpcio                       1.54.0\n",
      "h5py                         3.8.0\n",
      "idna                         3.4\n",
      "importlib-resources          5.12.0\n",
      "ipykernel                    6.22.0\n",
      "ipython                      8.13.1\n",
      "ipython-genutils             0.2.0\n",
      "ipywidgets                   8.0.6\n",
      "isoduration                  20.11.0\n",
      "jax                          0.4.8\n",
      "jedi                         0.18.2\n",
      "Jinja2                       3.1.2\n",
      "jsonpointer                  2.3\n",
      "jsonschema                   4.17.3\n",
      "jupyter                      1.0.0\n",
      "jupyter_client               8.2.0\n",
      "jupyter-console              6.6.3\n",
      "jupyter_core                 5.3.0\n",
      "jupyter-events               0.6.3\n",
      "jupyter_server               2.5.0\n",
      "jupyter_server_terminals     0.4.4\n",
      "jupyterlab-pygments          0.2.2\n",
      "jupyterlab-widgets           3.0.7\n",
      "keras                        2.12.0\n",
      "kiwisolver                   1.4.4\n",
      "libclang                     16.0.0\n",
      "Markdown                     3.4.3\n",
      "MarkupSafe                   2.1.2\n",
      "matplotlib                   3.7.1\n",
      "matplotlib-inline            0.1.6\n",
      "mistune                      2.0.5\n",
      "ml-dtypes                    0.1.0\n",
      "nbclassic                    0.5.6\n",
      "nbclient                     0.7.4\n",
      "nbconvert                    7.3.1\n",
      "nbformat                     5.8.0\n",
      "nest-asyncio                 1.5.6\n",
      "notebook                     6.5.4\n",
      "notebook_shim                0.2.3\n",
      "numpy                        1.23.5\n",
      "oauthlib                     3.2.2\n",
      "opt-einsum                   3.3.0\n",
      "packaging                    23.1\n",
      "pandocfilters                1.5.0\n",
      "parso                        0.8.3\n",
      "pickleshare                  0.7.5\n",
      "Pillow                       9.5.0\n",
      "pip                          23.1.2\n",
      "platformdirs                 3.5.0\n",
      "prometheus-client            0.16.0\n",
      "promise                      2.3\n",
      "prompt-toolkit               3.0.38\n",
      "protobuf                     4.22.3\n",
      "psutil                       5.9.5\n",
      "pure-eval                    0.2.2\n",
      "pyasn1                       0.5.0\n",
      "pyasn1-modules               0.3.0\n",
      "pycparser                    2.21\n",
      "Pygments                     2.15.1\n",
      "pyparsing                    3.0.9\n",
      "pyrsistent                   0.19.3\n",
      "python-dateutil              2.8.2\n",
      "python-json-logger           2.0.7\n",
      "pywin32                      306\n",
      "pywinpty                     2.0.10\n",
      "PyYAML                       6.0\n",
      "pyzmq                        25.0.2\n",
      "qtconsole                    5.4.2\n",
      "QtPy                         2.3.1\n",
      "requests                     2.29.0\n",
      "requests-oauthlib            1.3.1\n",
      "rfc3339-validator            0.1.4\n",
      "rfc3986-validator            0.1.1\n",
      "rsa                          4.9\n",
      "scipy                        1.10.1\n",
      "Send2Trash                   1.8.2\n",
      "setuptools                   65.5.0\n",
      "six                          1.16.0\n",
      "sniffio                      1.3.0\n",
      "soupsieve                    2.4.1\n",
      "stack-data                   0.6.2\n",
      "tensorboard                  2.12.2\n",
      "tensorboard-data-server      0.7.0\n",
      "tensorboard-plugin-wit       1.8.1\n",
      "tensorflow                   2.12.0\n",
      "tensorflow-datasets          4.9.2\n",
      "tensorflow-estimator         2.12.0\n",
      "tensorflow-intel             2.12.0\n",
      "tensorflow-io-gcs-filesystem 0.31.0\n",
      "tensorflow-metadata          1.13.1\n",
      "termcolor                    2.3.0\n",
      "terminado                    0.17.1\n",
      "tinycss2                     1.2.1\n",
      "toml                         0.10.2\n",
      "tornado                      6.3.1\n",
      "tqdm                         4.65.0\n",
      "traitlets                    5.9.0\n",
      "typing_extensions            4.5.0\n",
      "uri-template                 1.2.0\n",
      "urllib3                      1.26.15\n",
      "wcwidth                      0.2.6\n",
      "webcolors                    1.13\n",
      "webencodings                 0.5.1\n",
      "websocket-client             1.5.1\n",
      "Werkzeug                     2.3.2\n",
      "wheel                        0.40.0\n",
      "widgetsnbextension           4.0.7\n",
      "wrapt                        1.14.1\n",
      "zipp                         3.15.0\n"
     ]
    }
   ],
   "source": [
    "!pip list"
   ]
  },
  {
   "cell_type": "code",
   "execution_count": 3,
   "id": "63ca7ed6",
   "metadata": {},
   "outputs": [],
   "source": [
    "import tensorflow_datasets as tfds\n",
    "from matplotlib import pyplot as plt"
   ]
  },
  {
   "cell_type": "code",
   "execution_count": 4,
   "id": "aec43f96",
   "metadata": {},
   "outputs": [],
   "source": [
    "ds = tfds.load('binarized_mnist', split='train')"
   ]
  },
  {
   "cell_type": "code",
   "execution_count": 5,
   "id": "5ee55eb8",
   "metadata": {},
   "outputs": [],
   "source": [
    "import numpy as np"
   ]
  },
  {
   "cell_type": "code",
   "execution_count": 6,
   "id": "b35c38d2",
   "metadata": {},
   "outputs": [
    {
     "data": {
      "text/plain": [
       "(28, 28, 1)"
      ]
     },
     "execution_count": 6,
     "metadata": {},
     "output_type": "execute_result"
    }
   ],
   "source": [
    "ds.as_numpy_iterator().next()['image'].shape"
   ]
  },
  {
   "cell_type": "code",
   "execution_count": 7,
   "id": "664ae616",
   "metadata": {},
   "outputs": [],
   "source": [
    "dataiterator = ds.as_numpy_iterator()"
   ]
  },
  {
   "cell_type": "code",
   "execution_count": 8,
   "id": "6cdf6a84",
   "metadata": {},
   "outputs": [],
   "source": [
    "import tensorflow as tf"
   ]
  },
  {
   "cell_type": "code",
   "execution_count": 9,
   "id": "db48e44a",
   "metadata": {},
   "outputs": [
    {
     "data": {
      "image/png": "[encoded data removed]",
      "text/plain": [
       "<Figure size 2000x2000 with 4 Axes>"
      ]
     },
     "metadata": {},
     "output_type": "display_data"
    }
   ],
   "source": [
    "fig, ax = plt.subplots(ncols=4 ,figsize=(20,20))\n",
    "for idx in range(4):\n",
    "    sample = dataiterator.next()\n",
    "    ax[idx].imshow(sample['image'])"
   ]
  },
  {
   "cell_type": "code",
   "execution_count": 10,
   "id": "216d78af",
   "metadata": {},
   "outputs": [],
   "source": [
    "def scale_images(data):\n",
    "    image= data['image']\n",
    "    return image/255"
   ]
  },
  {
   "cell_type": "code",
   "execution_count": 11,
   "id": "646ebfba",
   "metadata": {},
   "outputs": [],
   "source": [
    "ds = tfds.load('binarized_mnist', split='train')\n",
    "ds = ds.map(scale_images)\n",
    "ds = ds.cache()\n",
    "ds = ds.shuffle(60000)\n",
    "ds = ds.batch(128)\n",
    "ds = ds.prefetch(64)"
   ]
  },
  {
   "cell_type": "code",
   "execution_count": 12,
   "id": "026ef38c",
   "metadata": {},
   "outputs": [
    {
     "data": {
      "text/plain": [
       "(128, 28, 28, 1)"
      ]
     },
     "execution_count": 12,
     "metadata": {},
     "output_type": "execute_result"
    }
   ],
   "source": [
    "ds.as_numpy_iterator().next().shape"
   ]
  },
  {
   "cell_type": "code",
   "execution_count": 13,
   "id": "7a4d5e40",
   "metadata": {},
   "outputs": [],
   "source": [
    "from tensorflow.keras.models import Sequential\n",
    "from tensorflow.keras.layers import Conv2D, Dense , Flatten, Reshape, LeakyReLU, Dropout, UpSampling2D "
   ]
  },
  {
   "cell_type": "code",
   "execution_count": 14,
   "id": "08c7aca8",
   "metadata": {},
   "outputs": [],
   "source": [
    "def build_generator():\n",
    "    model = Sequential()\n",
    "    \n",
    "    model.add(Dense(14*14*128, input_dim=128))\n",
    "    model.add(LeakyReLU(0.2))\n",
    "    model.add(Reshape((14,14,128)))\n",
    "   \n",
    "\n",
    "    model.add(UpSampling2D())\n",
    "    model.add(Conv2D(128,5, padding='same'))\n",
    "    model.add(LeakyReLU(0.2))\n",
    "    \n",
    "    model.add(Conv2D(1,4, padding ='same', activation ='sigmoid'))\n",
    "   \n",
    "    return model\n",
    "    "
   ]
  },
  {
   "cell_type": "code",
   "execution_count": 15,
   "id": "69924671",
   "metadata": {},
   "outputs": [],
   "source": [
    "generator =build_generator()"
   ]
  },
  {
   "cell_type": "code",
   "execution_count": 16,
   "id": "7421dc15",
   "metadata": {},
   "outputs": [
    {
     "name": "stdout",
     "output_type": "stream",
     "text": [
      "Model: \"sequential\"\n",
      "_________________________________________________________________\n",
      " Layer (type)                Output Shape              Param #   \n",
      "=================================================================\n",
      " dense (Dense)               (None, 25088)             3236352   \n",
      "                                                                 \n",
      " leaky_re_lu (LeakyReLU)     (None, 25088)             0         \n",
      "                                                                 \n",
      " reshape (Reshape)           (None, 14, 14, 128)       0         \n",
      "                                                                 \n",
      " up_sampling2d (UpSampling2D  (None, 28, 28, 128)      0         \n",
      " )                                                               \n",
      "                                                                 \n",
      " conv2d (Conv2D)             (None, 28, 28, 128)       409728    \n",
      "                                                                 \n",
      " leaky_re_lu_1 (LeakyReLU)   (None, 28, 28, 128)       0         \n",
      "                                                                 \n",
      " conv2d_1 (Conv2D)           (None, 28, 28, 1)         2049      \n",
      "                                                                 \n",
      "=================================================================\n",
      "Total params: 3,648,129\n",
      "Trainable params: 3,648,129\n",
      "Non-trainable params: 0\n",
      "_________________________________________________________________\n"
     ]
    }
   ],
   "source": [
    "generator.summary()"
   ]
  },
  {
   "cell_type": "code",
   "execution_count": 17,
   "id": "1a1a7c19",
   "metadata": {},
   "outputs": [
    {
     "name": "stdout",
     "output_type": "stream",
     "text": [
      "1/1 [==============================] - 1s 865ms/step\n"
     ]
    }
   ],
   "source": [
    "img = generator.predict(np.random.randn(4,128,1))"
   ]
  },
  {
   "cell_type": "code",
   "execution_count": 18,
   "id": "403fc3bb",
   "metadata": {},
   "outputs": [
    {
     "data": {
      "image/png": "[encoded data removed]",
      "text/plain": [
       "<Figure size 2000x2000 with 4 Axes>"
      ]
     },
     "metadata": {},
     "output_type": "display_data"
    }
   ],
   "source": [
    "fig, ax =plt.subplots(ncols=4, figsize=(20,20))\n",
    "for idx ,img in enumerate(img):\n",
    "    ax[idx].imshow(img)\n",
    "    "
   ]
  },
  {
   "cell_type": "code",
   "execution_count": 19,
   "id": "bdfcdfba",
   "metadata": {},
   "outputs": [],
   "source": [
    "def build_discriminator():\n",
    "    model = Sequential()\n",
    "    \n",
    "    model.add(Conv2D(32,4, input_shape=(28,28,1)))\n",
    "    model.add(LeakyReLU(0.2))\n",
    "    model.add(Dropout(0.4))\n",
    "    \n",
    "    model.add(Conv2D(128,4))\n",
    "    model.add(LeakyReLU(0.2))\n",
    "    model.add(Dropout(0.4))\n",
    "    \n",
    "    model.add(Conv2D(256, 5))\n",
    "    model.add(LeakyReLU(0.2))\n",
    "    model.add(Dropout(0.4))\n",
    "    \n",
    "    \n",
    "    model.add(Flatten())\n",
    "    model.add(Dense(1, activation='sigmoid'))\n",
    "    \n",
    "    return model"
   ]
  },
  {
   "cell_type": "raw",
   "id": "a2f48ce8",
   "metadata": {},
   "source": []
  },
  {
   "cell_type": "code",
   "execution_count": 20,
   "id": "8a4648eb",
   "metadata": {},
   "outputs": [],
   "source": [
    "discriminator = build_discriminator()"
   ]
  },
  {
   "cell_type": "code",
   "execution_count": 21,
   "id": "5c1d4c7f",
   "metadata": {},
   "outputs": [
    {
     "name": "stdout",
     "output_type": "stream",
     "text": [
      "Model: \"sequential_1\"\n",
      "_________________________________________________________________\n",
      " Layer (type)                Output Shape              Param #   \n",
      "=================================================================\n",
      " conv2d_2 (Conv2D)           (None, 25, 25, 32)        544       \n",
      "                                                                 \n",
      " leaky_re_lu_2 (LeakyReLU)   (None, 25, 25, 32)        0         \n",
      "                                                                 \n",
      " dropout (Dropout)           (None, 25, 25, 32)        0         \n",
      "                                                                 \n",
      " conv2d_3 (Conv2D)           (None, 22, 22, 128)       65664     \n",
      "                                                                 \n",
      " leaky_re_lu_3 (LeakyReLU)   (None, 22, 22, 128)       0         \n",
      "                                                                 \n",
      " dropout_1 (Dropout)         (None, 22, 22, 128)       0         \n",
      "                                                                 \n",
      " conv2d_4 (Conv2D)           (None, 18, 18, 256)       819456    \n",
      "                                                                 \n",
      " leaky_re_lu_4 (LeakyReLU)   (None, 18, 18, 256)       0         \n",
      "                                                                 \n",
      " dropout_2 (Dropout)         (None, 18, 18, 256)       0         \n",
      "                                                                 \n",
      " flatten (Flatten)           (None, 82944)             0         \n",
      "                                                                 \n",
      " dense_1 (Dense)             (None, 1)                 82945     \n",
      "                                                                 \n",
      "=================================================================\n",
      "Total params: 968,609\n",
      "Trainable params: 968,609\n",
      "Non-trainable params: 0\n",
      "_________________________________________________________________\n"
     ]
    }
   ],
   "source": [
    "discriminator.summary()"
   ]
  },
  {
   "cell_type": "code",
   "execution_count": 22,
   "id": "a99ba12a",
   "metadata": {},
   "outputs": [],
   "source": [
    "from tensorflow.keras.optimizers import Adam\n",
    "from tensorflow.keras.losses import BinaryCrossentropy"
   ]
  },
  {
   "cell_type": "code",
   "execution_count": 23,
   "id": "39deac04",
   "metadata": {},
   "outputs": [],
   "source": [
    "g_opt = Adam(learning_rate=0.0001)\n",
    "d_opt = Adam(learning_rate=0.00001)\n",
    "g_loss =  BinaryCrossentropy()\n",
    "d_loss =  BinaryCrossentropy()"
   ]
  },
  {
   "cell_type": "code",
   "execution_count": 24,
   "id": "6c67b7f3",
   "metadata": {},
   "outputs": [],
   "source": [
    "from tensorflow.keras.models import Model"
   ]
  },
  {
   "cell_type": "code",
   "execution_count": null,
   "id": "90ffb350",
   "metadata": {},
   "outputs": [],
   "source": []
  },
  {
   "cell_type": "code",
   "execution_count": 45,
   "id": "3f9d463c",
   "metadata": {},
   "outputs": [],
   "source": [
    "class BinarizedGAN(Model):\n",
    "    def __init__(self,generator,discriminator,*args,**kwargs):\n",
    "        super().__init__(*args, **kwargs)\n",
    "        \n",
    "        self.generator = generator\n",
    "        self.discriminator = discriminator\n",
    "       \n",
    "    def compile(self,g_opt,d_opt,g_loss,d_loss,*args,**kwargs):\n",
    "        super().compile(*args, **kwargs)\n",
    "        \n",
    "        self.g_opt = g_opt\n",
    "        self.d_opt = d_opt\n",
    "        self.g_loss = g_loss\n",
    "        self.d_loss = d_loss\n",
    "        \n",
    "    def train_step(self,batch):\n",
    "        real_img = batch\n",
    "        fake_img = self.generator(tf.random.normal((128,128,1)), training = False)\n",
    "        \n",
    "        with tf.GradientTape() as d_tape:\n",
    "            yhat_real = self.discriminator(real_img, training = True)\n",
    "            yhat_fake = self.discriminator(fake_img, training = True)\n",
    "            yhat_realfake = tf.concat([yhat_real, yhat_fake], axis=0)\n",
    "        \n",
    "            y_realfake = tf.concat([tf.zeros_like(yhat_real), tf.ones_like(yhat_fake)], axis=0)\n",
    "        \n",
    "            noise_real = 0.15*tf.random.uniform(tf.shape(yhat_real))\n",
    "            noise_fake = -0.15*tf.random.uniform(tf.shape(yhat_fake))\n",
    "            y_realfake += tf.concat([noise_real, noise_fake], axis=0)\n",
    "        \n",
    "            total_d_loss = d_loss( y_realfake, yhat_realfake)\n",
    "      \n",
    "            dgrad = d_tape.gradient(total_d_loss, self.discriminator.trainable_variables) \n",
    "            self.d_opt.apply_gradients(zip(dgrad, self.discriminator.trainable_variables))\n",
    "        \n",
    "        \n",
    "        \n",
    "        with tf.GradientTape() as g_tape:\n",
    "            gen_image = self.generator(tf.random.normal((128,128,1)), training= True)\n",
    "            predicted_label = self.discriminator(gen_image, training= False)\n",
    "        \n",
    "            total_g_loss = g_loss(tf.zeros_like(predicted_label), predicted_label)\n",
    "        \n",
    "            ggrad = g_tape.gradient(total_g_loss, self.discriminator.trainable_variables) \n",
    "            self.g_opt.apply_gradients(zip(ggrad, self.discriminator.trainable_variables))\n",
    "        \n",
    "        return {\"d_loss\":total_d_loss, \"g_loss\":total_g_loss}\n",
    "            "
   ]
  },
  {
   "cell_type": "code",
   "execution_count": 46,
   "id": "6b79fd75",
   "metadata": {},
   "outputs": [],
   "source": [
    "binarized =BinarizedGAN(generator,discriminator)"
   ]
  },
  {
   "cell_type": "code",
   "execution_count": 47,
   "id": "416e1e35",
   "metadata": {},
   "outputs": [],
   "source": [
    "binarized.compile(g_opt, d_opt, g_loss, d_loss)"
   ]
  },
  {
   "cell_type": "code",
   "execution_count": 48,
   "id": "04e7fed7",
   "metadata": {},
   "outputs": [
    {
     "name": "stdout",
     "output_type": "stream",
     "text": [
      "Epoch 1/5\n",
      "391/391 [==============================] - 2729s 7s/step - d_loss: 4.1254 - g_loss: 0.0121\n",
      "Epoch 2/5\n",
      "391/391 [==============================] - 25935s 66s/step - d_loss: 4.9741 - g_loss: 2.0207e-05\n",
      "Epoch 3/5\n",
      "391/391 [==============================] - 3198s 8s/step - d_loss: 4.3123 - g_loss: 1.0878e-06\n",
      "Epoch 4/5\n",
      "391/391 [==============================] - 140520s 360s/step - d_loss: 3.9980 - g_loss: 4.5506e-07\n",
      "Epoch 5/5\n",
      "391/391 [==============================] - 2588s 7s/step - d_loss: 7.7198 - g_loss: 0.0000e+00\n"
     ]
    }
   ],
   "source": [
    "hist = binarized.fit(ds, epochs=5)"
   ]
  },
  {
   "cell_type": "code",
   "execution_count": 50,
   "id": "e800e2d2",
   "metadata": {},
   "outputs": [
    {
     "data": {
      "text/plain": [
       "{'d_loss': [5.6501312255859375,\n",
       "  5.601058006286621,\n",
       "  5.349282264709473,\n",
       "  9.23051643371582,\n",
       "  9.217326164245605],\n",
       " 'g_loss': [6.476927228504792e-05,\n",
       "  2.7206444883631775e-06,\n",
       "  2.5495674549347314e-07,\n",
       "  0.0,\n",
       "  0.0]}"
      ]
     },
     "execution_count": 50,
     "metadata": {},
     "output_type": "execute_result"
    }
   ],
   "source": [
    "hist.history"
   ]
  },
  {
   "cell_type": "code",
   "execution_count": 59,
   "id": "d3f7b2dd",
   "metadata": {},
   "outputs": [
    {
     "name": "stdout",
     "output_type": "stream",
     "text": [
      "Collecting seaborn\n",
      "  Downloading seaborn-0.12.2-py3-none-any.whl (293 kB)\n",
      "                                              0.0/293.3 kB ? eta -:--:--\n",
      "     -                                        10.2/293.3 kB ? eta -:--:--\n",
      "     ----------                              81.9/293.3 kB 1.1 MB/s eta 0:00:01\n",
      "     ---------------------------------      256.0/293.3 kB 2.2 MB/s eta 0:00:01\n",
      "     -------------------------------------- 293.3/293.3 kB 2.3 MB/s eta 0:00:00\n",
      "Requirement already satisfied: numpy!=1.24.0,>=1.17 in c:\\users\\abhiraj\\desktop\\generative adversarial neural network\\fashgan\\lib\\site-packages (from seaborn) (1.23.5)\n",
      "Collecting pandas>=0.25 (from seaborn)\n",
      "  Downloading pandas-2.0.1-cp311-cp311-win_amd64.whl (10.6 MB)\n",
      "                                              0.0/10.6 MB ? eta -:--:--\n",
      "     -                                        0.3/10.6 MB 9.6 MB/s eta 0:00:02\n",
      "     --                                       0.7/10.6 MB 6.9 MB/s eta 0:00:02\n",
      "     ---                                      0.9/10.6 MB 6.7 MB/s eta 0:00:02\n",
      "     -----                                    1.4/10.6 MB 6.7 MB/s eta 0:00:02\n",
      "     ------                                   1.7/10.6 MB 6.5 MB/s eta 0:00:02\n",
      "     --------                                 2.2/10.6 MB 6.8 MB/s eta 0:00:02\n",
      "     ---------                                2.5/10.6 MB 6.7 MB/s eta 0:00:02\n",
      "     ----------                               2.8/10.6 MB 6.6 MB/s eta 0:00:02\n",
      "     -----------                              3.1/10.6 MB 6.7 MB/s eta 0:00:02\n",
      "     -------------                            3.6/10.6 MB 6.7 MB/s eta 0:00:02\n",
      "     --------------                           3.9/10.6 MB 6.6 MB/s eta 0:00:02\n",
      "     ---------------                          4.2/10.6 MB 6.6 MB/s eta 0:00:01\n",
      "     -----------------                        4.6/10.6 MB 6.7 MB/s eta 0:00:01\n",
      "     ------------------                       5.0/10.6 MB 6.7 MB/s eta 0:00:01\n",
      "     --------------------                     5.4/10.6 MB 6.7 MB/s eta 0:00:01\n",
      "     ---------------------                    5.7/10.6 MB 6.8 MB/s eta 0:00:01\n",
      "     ----------------------                   6.0/10.6 MB 6.8 MB/s eta 0:00:01\n",
      "     ------------------------                 6.4/10.6 MB 6.8 MB/s eta 0:00:01\n",
      "     -------------------------                6.6/10.6 MB 6.7 MB/s eta 0:00:01\n",
      "     --------------------------               7.0/10.6 MB 6.7 MB/s eta 0:00:01\n",
      "     ---------------------------              7.3/10.6 MB 6.7 MB/s eta 0:00:01\n",
      "     ----------------------------             7.7/10.6 MB 6.7 MB/s eta 0:00:01\n",
      "     ------------------------------           8.0/10.6 MB 6.7 MB/s eta 0:00:01\n",
      "     ------------------------------           8.2/10.6 MB 6.6 MB/s eta 0:00:01\n",
      "     --------------------------------         8.6/10.6 MB 6.7 MB/s eta 0:00:01\n",
      "     ---------------------------------        9.0/10.6 MB 6.8 MB/s eta 0:00:01\n",
      "     -----------------------------------      9.4/10.6 MB 6.7 MB/s eta 0:00:01\n",
      "     -------------------------------------    9.8/10.6 MB 6.7 MB/s eta 0:00:01\n",
      "     --------------------------------------   10.1/10.6 MB 6.8 MB/s eta 0:00:01\n",
      "     ---------------------------------------  10.6/10.6 MB 6.7 MB/s eta 0:00:01\n",
      "     ---------------------------------------  10.6/10.6 MB 6.7 MB/s eta 0:00:01\n",
      "     ---------------------------------------- 10.6/10.6 MB 6.4 MB/s eta 0:00:00\n",
      "Requirement already satisfied: matplotlib!=3.6.1,>=3.1 in c:\\users\\abhiraj\\desktop\\generative adversarial neural network\\fashgan\\lib\\site-packages (from seaborn) (3.7.1)\n",
      "Requirement already satisfied: contourpy>=1.0.1 in c:\\users\\abhiraj\\desktop\\generative adversarial neural network\\fashgan\\lib\\site-packages (from matplotlib!=3.6.1,>=3.1->seaborn) (1.0.7)\n",
      "Requirement already satisfied: cycler>=0.10 in c:\\users\\abhiraj\\desktop\\generative adversarial neural network\\fashgan\\lib\\site-packages (from matplotlib!=3.6.1,>=3.1->seaborn) (0.11.0)\n",
      "Requirement already satisfied: fonttools>=4.22.0 in c:\\users\\abhiraj\\desktop\\generative adversarial neural network\\fashgan\\lib\\site-packages (from matplotlib!=3.6.1,>=3.1->seaborn) (4.39.3)\n",
      "Requirement already satisfied: kiwisolver>=1.0.1 in c:\\users\\abhiraj\\desktop\\generative adversarial neural network\\fashgan\\lib\\site-packages (from matplotlib!=3.6.1,>=3.1->seaborn) (1.4.4)\n",
      "Requirement already satisfied: packaging>=20.0 in c:\\users\\abhiraj\\desktop\\generative adversarial neural network\\fashgan\\lib\\site-packages (from matplotlib!=3.6.1,>=3.1->seaborn) (23.1)\n",
      "Requirement already satisfied: pillow>=6.2.0 in c:\\users\\abhiraj\\desktop\\generative adversarial neural network\\fashgan\\lib\\site-packages (from matplotlib!=3.6.1,>=3.1->seaborn) (9.5.0)\n",
      "Requirement already satisfied: pyparsing>=2.3.1 in c:\\users\\abhiraj\\desktop\\generative adversarial neural network\\fashgan\\lib\\site-packages (from matplotlib!=3.6.1,>=3.1->seaborn) (3.0.9)\n",
      "Requirement already satisfied: python-dateutil>=2.7 in c:\\users\\abhiraj\\desktop\\generative adversarial neural network\\fashgan\\lib\\site-packages (from matplotlib!=3.6.1,>=3.1->seaborn) (2.8.2)\n",
      "Collecting pytz>=2020.1 (from pandas>=0.25->seaborn)\n",
      "  Using cached pytz-2023.3-py2.py3-none-any.whl (502 kB)\n",
      "Collecting tzdata>=2022.1 (from pandas>=0.25->seaborn)\n",
      "  Using cached tzdata-2023.3-py2.py3-none-any.whl (341 kB)\n",
      "Requirement already satisfied: six>=1.5 in c:\\users\\abhiraj\\desktop\\generative adversarial neural network\\fashgan\\lib\\site-packages (from python-dateutil>=2.7->matplotlib!=3.6.1,>=3.1->seaborn) (1.16.0)\n",
      "Installing collected packages: pytz, tzdata, pandas, seaborn\n",
      "Successfully installed pandas-2.0.1 pytz-2023.3 seaborn-0.12.2 tzdata-2023.3\n"
     ]
    }
   ],
   "source": [
    "!pip install seaborn"
   ]
  },
  {
   "cell_type": "code",
   "execution_count": 64,
   "id": "09dc81e5",
   "metadata": {},
   "outputs": [
    {
     "data": {
      "text/plain": [
       "<Axes: >"
      ]
     },
     "execution_count": 64,
     "metadata": {},
     "output_type": "execute_result"
    },
    {
     "data": {
      "image/png": "[encoded data removed]",
      "text/plain": [
       "<Figure size 640x480 with 1 Axes>"
      ]
     },
     "metadata": {},
     "output_type": "display_data"
    }
   ],
   "source": [
    "import seaborn as sns\n",
    "sns.lineplot(hist.history['d_loss'], label='d_loss')\n"
   ]
  },
  {
   "cell_type": "code",
   "execution_count": 66,
   "id": "10897cb0",
   "metadata": {},
   "outputs": [
    {
     "data": {
      "text/plain": [
       "[<matplotlib.lines.Line2D at 0x18bb97804d0>]"
      ]
     },
     "execution_count": 66,
     "metadata": {},
     "output_type": "execute_result"
    },
    {
     "data": {
      "image/png": "[encoded data removed]",
      "text/plain": [
       "<Figure size 640x480 with 1 Axes>"
      ]
     },
     "metadata": {},
     "output_type": "display_data"
    }
   ],
   "source": [
    "plt.plot(hist.history['g_loss'])"
   ]
  },
  {
   "cell_type": "code",
   "execution_count": null,
   "id": "dc891d29",
   "metadata": {},
   "outputs": [],
   "source": []
  }
 ],
 "metadata": {
  "kernelspec": {
   "display_name": "fashgan",
   "language": "python",
   "name": "fashgan"
  },
  "language_info": {
   "codemirror_mode": {
    "name": "ipython",
    "version": 3
   },
   "file_extension": ".py",
   "mimetype": "text/x-python",
   "name": "python",
   "nbconvert_exporter": "python",
   "pygments_lexer": "ipython3",
   "version": "3.11.3"
  }
 },
 "nbformat": 4,
 "nbformat_minor": 5
}
